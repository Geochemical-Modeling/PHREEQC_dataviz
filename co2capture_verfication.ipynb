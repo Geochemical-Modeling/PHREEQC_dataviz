{
 "cells": [
  {
   "cell_type": "markdown",
   "id": "26e4c029-43b4-4dc3-bc74-9e65be06bdf2",
   "metadata": {},
   "source": [
    "# Verfication of total CO2 capture\n",
    "Equations: \n",
    "![title](documents/co2_equation.png)\n",
    "Data:\n",
    "documents\\20240219_QAQC-calculation_of_Total_CO2_capture.xlsx"
   ]
  },
  {
   "cell_type": "code",
   "execution_count": null,
   "id": "c03fe554-c7bd-4752-9dda-860af25ec974",
   "metadata": {},
   "outputs": [],
   "source": []
  }
 ],
 "metadata": {
  "kernelspec": {
   "display_name": "Python 3 (ipykernel)",
   "language": "python",
   "name": "python3"
  },
  "language_info": {
   "codemirror_mode": {
    "name": "ipython",
    "version": 3
   },
   "file_extension": ".py",
   "mimetype": "text/x-python",
   "name": "python",
   "nbconvert_exporter": "python",
   "pygments_lexer": "ipython3",
   "version": "3.12.2"
  }
 },
 "nbformat": 4,
 "nbformat_minor": 5
}
