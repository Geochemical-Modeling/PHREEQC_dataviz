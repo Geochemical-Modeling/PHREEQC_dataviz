{
 "cells": [
  {
   "cell_type": "markdown",
   "id": "f1d857b6-1cff-4225-a49f-238de8f980bb",
   "metadata": {},
   "source": [
    "# Visulization of phreeqc output\n",
    "Reference: \"2023.11.13 Library of possible graphs.pdf\""
   ]
  },
  {
   "cell_type": "markdown",
   "id": "c59419ee-0c9a-459f-85c3-9ff8d00d67bf",
   "metadata": {},
   "source": [
    "## Python Import"
   ]
  },
  {
   "cell_type": "code",
   "execution_count": 66,
   "id": "8dc761c1-3388-4f69-a6dc-569dad7fb865",
   "metadata": {},
   "outputs": [],
   "source": [
    "import os, sys\n",
    "import matplotlib.pyplot as plt\n",
    "import scienceplots\n",
    "import pandas as pd"
   ]
  },
  {
   "cell_type": "code",
   "execution_count": 67,
   "id": "66f96ab0-ce1c-4168-8abc-d0fac4ec9bb6",
   "metadata": {},
   "outputs": [],
   "source": [
    "plt.style.use(['science','no-latex'])\n",
    "plt.rcParams['figure.figsize'] = [6, 4]"
   ]
  },
  {
   "cell_type": "markdown",
   "id": "25ff477c-2b58-4255-b4c8-e59cd61caa13",
   "metadata": {},
   "source": [
    "## Preprocessing"
   ]
  },
  {
   "cell_type": "code",
   "execution_count": 68,
   "id": "babfe336-2dbc-4354-b5ea-756e952ed750",
   "metadata": {},
   "outputs": [],
   "source": [
    "# test data\n",
    "test_data = \"data/job001_Beerling_original.out\""
   ]
  },
  {
   "cell_type": "code",
   "execution_count": 69,
   "id": "5f0ba193-7766-48ed-afae-d5149fd7c902",
   "metadata": {
    "scrolled": true
   },
   "outputs": [
    {
     "data": {
      "text/html": [
       "<div>\n",
       "<style scoped>\n",
       "    .dataframe tbody tr th:only-of-type {\n",
       "        vertical-align: middle;\n",
       "    }\n",
       "\n",
       "    .dataframe tbody tr th {\n",
       "        vertical-align: top;\n",
       "    }\n",
       "\n",
       "    .dataframe thead th {\n",
       "        text-align: right;\n",
       "    }\n",
       "</style>\n",
       "<table border=\"1\" class=\"dataframe\">\n",
       "  <thead>\n",
       "    <tr style=\"text-align: right;\">\n",
       "      <th></th>\n",
       "      <th>sim</th>\n",
       "      <th>state</th>\n",
       "      <th>soln</th>\n",
       "      <th>dist_x</th>\n",
       "      <th>time</th>\n",
       "      <th>step</th>\n",
       "      <th>pH</th>\n",
       "      <th>pe</th>\n",
       "      <th>N</th>\n",
       "      <th>Na</th>\n",
       "      <th>...</th>\n",
       "      <th>dk_Ilmenite</th>\n",
       "      <th>k_Glass</th>\n",
       "      <th>dk_Glass</th>\n",
       "      <th>k_MikeSorghum</th>\n",
       "      <th>dk_MikeSorghum</th>\n",
       "      <th>SurfH_Ca</th>\n",
       "      <th>SurfH_Mg</th>\n",
       "      <th>SurfH_H</th>\n",
       "      <th>Hfo_PO4</th>\n",
       "      <th>Unnamed: 92</th>\n",
       "    </tr>\n",
       "  </thead>\n",
       "  <tbody>\n",
       "    <tr>\n",
       "      <th>0</th>\n",
       "      <td>1</td>\n",
       "      <td>i_soln</td>\n",
       "      <td>0</td>\n",
       "      <td>-99.000</td>\n",
       "      <td>-99.0</td>\n",
       "      <td>-99</td>\n",
       "      <td>8.10000</td>\n",
       "      <td>4.0000</td>\n",
       "      <td>0.000464</td>\n",
       "      <td>0.000180</td>\n",
       "      <td>...</td>\n",
       "      <td>0.0</td>\n",
       "      <td>0.0</td>\n",
       "      <td>0.0</td>\n",
       "      <td>0.0</td>\n",
       "      <td>0.0</td>\n",
       "      <td>0.000000</td>\n",
       "      <td>0.000000</td>\n",
       "      <td>0.000000</td>\n",
       "      <td>0.000000e+00</td>\n",
       "      <td>NaN</td>\n",
       "    </tr>\n",
       "    <tr>\n",
       "      <th>1</th>\n",
       "      <td>1</td>\n",
       "      <td>i_soln</td>\n",
       "      <td>1</td>\n",
       "      <td>-99.000</td>\n",
       "      <td>-99.0</td>\n",
       "      <td>-99</td>\n",
       "      <td>8.10000</td>\n",
       "      <td>4.0000</td>\n",
       "      <td>0.000464</td>\n",
       "      <td>0.000180</td>\n",
       "      <td>...</td>\n",
       "      <td>0.0</td>\n",
       "      <td>0.0</td>\n",
       "      <td>0.0</td>\n",
       "      <td>0.0</td>\n",
       "      <td>0.0</td>\n",
       "      <td>0.000000</td>\n",
       "      <td>0.000000</td>\n",
       "      <td>0.000000</td>\n",
       "      <td>0.000000e+00</td>\n",
       "      <td>NaN</td>\n",
       "    </tr>\n",
       "    <tr>\n",
       "      <th>2</th>\n",
       "      <td>1</td>\n",
       "      <td>react</td>\n",
       "      <td>0</td>\n",
       "      <td>-99.000</td>\n",
       "      <td>0.0</td>\n",
       "      <td>1</td>\n",
       "      <td>7.77981</td>\n",
       "      <td>12.9020</td>\n",
       "      <td>0.000464</td>\n",
       "      <td>0.000180</td>\n",
       "      <td>...</td>\n",
       "      <td>0.0</td>\n",
       "      <td>0.0</td>\n",
       "      <td>0.0</td>\n",
       "      <td>0.0</td>\n",
       "      <td>0.0</td>\n",
       "      <td>0.000000</td>\n",
       "      <td>0.000000</td>\n",
       "      <td>0.000000</td>\n",
       "      <td>0.000000e+00</td>\n",
       "      <td>NaN</td>\n",
       "    </tr>\n",
       "    <tr>\n",
       "      <th>3</th>\n",
       "      <td>2</td>\n",
       "      <td>i_exch</td>\n",
       "      <td>1</td>\n",
       "      <td>-99.000</td>\n",
       "      <td>-99.0</td>\n",
       "      <td>-99</td>\n",
       "      <td>8.10000</td>\n",
       "      <td>4.0000</td>\n",
       "      <td>0.000464</td>\n",
       "      <td>0.000180</td>\n",
       "      <td>...</td>\n",
       "      <td>0.0</td>\n",
       "      <td>0.0</td>\n",
       "      <td>0.0</td>\n",
       "      <td>0.0</td>\n",
       "      <td>0.0</td>\n",
       "      <td>0.000000</td>\n",
       "      <td>0.000000</td>\n",
       "      <td>0.000000</td>\n",
       "      <td>0.000000e+00</td>\n",
       "      <td>NaN</td>\n",
       "    </tr>\n",
       "    <tr>\n",
       "      <th>4</th>\n",
       "      <td>3</td>\n",
       "      <td>i_surf</td>\n",
       "      <td>1</td>\n",
       "      <td>-99.000</td>\n",
       "      <td>-99.0</td>\n",
       "      <td>-99</td>\n",
       "      <td>8.10000</td>\n",
       "      <td>4.0000</td>\n",
       "      <td>0.000464</td>\n",
       "      <td>0.000180</td>\n",
       "      <td>...</td>\n",
       "      <td>0.0</td>\n",
       "      <td>0.0</td>\n",
       "      <td>0.0</td>\n",
       "      <td>0.0</td>\n",
       "      <td>0.0</td>\n",
       "      <td>0.021727</td>\n",
       "      <td>0.001211</td>\n",
       "      <td>0.077437</td>\n",
       "      <td>0.000000e+00</td>\n",
       "      <td>NaN</td>\n",
       "    </tr>\n",
       "    <tr>\n",
       "      <th>...</th>\n",
       "      <td>...</td>\n",
       "      <td>...</td>\n",
       "      <td>...</td>\n",
       "      <td>...</td>\n",
       "      <td>...</td>\n",
       "      <td>...</td>\n",
       "      <td>...</td>\n",
       "      <td>...</td>\n",
       "      <td>...</td>\n",
       "      <td>...</td>\n",
       "      <td>...</td>\n",
       "      <td>...</td>\n",
       "      <td>...</td>\n",
       "      <td>...</td>\n",
       "      <td>...</td>\n",
       "      <td>...</td>\n",
       "      <td>...</td>\n",
       "      <td>...</td>\n",
       "      <td>...</td>\n",
       "      <td>...</td>\n",
       "      <td>...</td>\n",
       "    </tr>\n",
       "    <tr>\n",
       "      <th>1111</th>\n",
       "      <td>1</td>\n",
       "      <td>transp</td>\n",
       "      <td>7</td>\n",
       "      <td>0.325</td>\n",
       "      <td>157825000.0</td>\n",
       "      <td>100</td>\n",
       "      <td>7.24426</td>\n",
       "      <td>15.0329</td>\n",
       "      <td>0.000334</td>\n",
       "      <td>0.000568</td>\n",
       "      <td>...</td>\n",
       "      <td>0.0</td>\n",
       "      <td>0.0</td>\n",
       "      <td>0.0</td>\n",
       "      <td>0.0</td>\n",
       "      <td>0.0</td>\n",
       "      <td>0.009470</td>\n",
       "      <td>0.000571</td>\n",
       "      <td>0.111620</td>\n",
       "      <td>6.764500e-06</td>\n",
       "      <td>NaN</td>\n",
       "    </tr>\n",
       "    <tr>\n",
       "      <th>1112</th>\n",
       "      <td>1</td>\n",
       "      <td>transp</td>\n",
       "      <td>8</td>\n",
       "      <td>0.375</td>\n",
       "      <td>157825000.0</td>\n",
       "      <td>100</td>\n",
       "      <td>7.16534</td>\n",
       "      <td>15.0308</td>\n",
       "      <td>0.000329</td>\n",
       "      <td>0.000348</td>\n",
       "      <td>...</td>\n",
       "      <td>0.0</td>\n",
       "      <td>0.0</td>\n",
       "      <td>0.0</td>\n",
       "      <td>0.0</td>\n",
       "      <td>0.0</td>\n",
       "      <td>0.009377</td>\n",
       "      <td>0.000559</td>\n",
       "      <td>0.116540</td>\n",
       "      <td>1.930100e-08</td>\n",
       "      <td>NaN</td>\n",
       "    </tr>\n",
       "    <tr>\n",
       "      <th>1113</th>\n",
       "      <td>1</td>\n",
       "      <td>transp</td>\n",
       "      <td>9</td>\n",
       "      <td>0.425</td>\n",
       "      <td>157825000.0</td>\n",
       "      <td>100</td>\n",
       "      <td>7.10706</td>\n",
       "      <td>14.9478</td>\n",
       "      <td>0.000335</td>\n",
       "      <td>0.000270</td>\n",
       "      <td>...</td>\n",
       "      <td>0.0</td>\n",
       "      <td>0.0</td>\n",
       "      <td>0.0</td>\n",
       "      <td>0.0</td>\n",
       "      <td>0.0</td>\n",
       "      <td>0.009241</td>\n",
       "      <td>0.000553</td>\n",
       "      <td>0.120140</td>\n",
       "      <td>3.431600e-11</td>\n",
       "      <td>NaN</td>\n",
       "    </tr>\n",
       "    <tr>\n",
       "      <th>1114</th>\n",
       "      <td>1</td>\n",
       "      <td>transp</td>\n",
       "      <td>10</td>\n",
       "      <td>0.475</td>\n",
       "      <td>157825000.0</td>\n",
       "      <td>100</td>\n",
       "      <td>7.05164</td>\n",
       "      <td>13.7762</td>\n",
       "      <td>0.000344</td>\n",
       "      <td>0.000246</td>\n",
       "      <td>...</td>\n",
       "      <td>0.0</td>\n",
       "      <td>0.0</td>\n",
       "      <td>0.0</td>\n",
       "      <td>0.0</td>\n",
       "      <td>0.0</td>\n",
       "      <td>0.009077</td>\n",
       "      <td>0.000554</td>\n",
       "      <td>0.123580</td>\n",
       "      <td>4.370800e-14</td>\n",
       "      <td>NaN</td>\n",
       "    </tr>\n",
       "    <tr>\n",
       "      <th>1115</th>\n",
       "      <td>1</td>\n",
       "      <td>transp</td>\n",
       "      <td>11</td>\n",
       "      <td>0.525</td>\n",
       "      <td>157825000.0</td>\n",
       "      <td>100</td>\n",
       "      <td>8.23572</td>\n",
       "      <td>12.3537</td>\n",
       "      <td>0.000344</td>\n",
       "      <td>0.000246</td>\n",
       "      <td>...</td>\n",
       "      <td>0.0</td>\n",
       "      <td>0.0</td>\n",
       "      <td>0.0</td>\n",
       "      <td>0.0</td>\n",
       "      <td>0.0</td>\n",
       "      <td>0.000000</td>\n",
       "      <td>0.000000</td>\n",
       "      <td>0.000000</td>\n",
       "      <td>0.000000e+00</td>\n",
       "      <td>NaN</td>\n",
       "    </tr>\n",
       "  </tbody>\n",
       "</table>\n",
       "<p>1116 rows × 93 columns</p>\n",
       "</div>"
      ],
      "text/plain": [
       "      sim         state  soln  dist_x         time  step       pH       pe  \\\n",
       "0       1        i_soln     0 -99.000        -99.0   -99  8.10000   4.0000   \n",
       "1       1        i_soln     1 -99.000        -99.0   -99  8.10000   4.0000   \n",
       "2       1         react     0 -99.000          0.0     1  7.77981  12.9020   \n",
       "3       2        i_exch     1 -99.000        -99.0   -99  8.10000   4.0000   \n",
       "4       3        i_surf     1 -99.000        -99.0   -99  8.10000   4.0000   \n",
       "...   ...           ...   ...     ...          ...   ...      ...      ...   \n",
       "1111    1        transp     7   0.325  157825000.0   100  7.24426  15.0329   \n",
       "1112    1        transp     8   0.375  157825000.0   100  7.16534  15.0308   \n",
       "1113    1        transp     9   0.425  157825000.0   100  7.10706  14.9478   \n",
       "1114    1        transp    10   0.475  157825000.0   100  7.05164  13.7762   \n",
       "1115    1        transp    11   0.525  157825000.0   100  8.23572  12.3537   \n",
       "\n",
       "             N        Na  ...  dk_Ilmenite  k_Glass  dk_Glass  k_MikeSorghum  \\\n",
       "0     0.000464  0.000180  ...          0.0      0.0       0.0            0.0   \n",
       "1     0.000464  0.000180  ...          0.0      0.0       0.0            0.0   \n",
       "2     0.000464  0.000180  ...          0.0      0.0       0.0            0.0   \n",
       "3     0.000464  0.000180  ...          0.0      0.0       0.0            0.0   \n",
       "4     0.000464  0.000180  ...          0.0      0.0       0.0            0.0   \n",
       "...        ...       ...  ...          ...      ...       ...            ...   \n",
       "1111  0.000334  0.000568  ...          0.0      0.0       0.0            0.0   \n",
       "1112  0.000329  0.000348  ...          0.0      0.0       0.0            0.0   \n",
       "1113  0.000335  0.000270  ...          0.0      0.0       0.0            0.0   \n",
       "1114  0.000344  0.000246  ...          0.0      0.0       0.0            0.0   \n",
       "1115  0.000344  0.000246  ...          0.0      0.0       0.0            0.0   \n",
       "\n",
       "      dk_MikeSorghum  SurfH_Ca  SurfH_Mg   SurfH_H       Hfo_PO4  Unnamed: 92  \n",
       "0                0.0  0.000000  0.000000  0.000000  0.000000e+00          NaN  \n",
       "1                0.0  0.000000  0.000000  0.000000  0.000000e+00          NaN  \n",
       "2                0.0  0.000000  0.000000  0.000000  0.000000e+00          NaN  \n",
       "3                0.0  0.000000  0.000000  0.000000  0.000000e+00          NaN  \n",
       "4                0.0  0.021727  0.001211  0.077437  0.000000e+00          NaN  \n",
       "...              ...       ...       ...       ...           ...          ...  \n",
       "1111             0.0  0.009470  0.000571  0.111620  6.764500e-06          NaN  \n",
       "1112             0.0  0.009377  0.000559  0.116540  1.930100e-08          NaN  \n",
       "1113             0.0  0.009241  0.000553  0.120140  3.431600e-11          NaN  \n",
       "1114             0.0  0.009077  0.000554  0.123580  4.370800e-14          NaN  \n",
       "1115             0.0  0.000000  0.000000  0.000000  0.000000e+00          NaN  \n",
       "\n",
       "[1116 rows x 93 columns]"
      ]
     },
     "execution_count": 69,
     "metadata": {},
     "output_type": "execute_result"
    }
   ],
   "source": [
    "# load raw data, separator is tab\n",
    "raw = pd.read_csv(test_data,sep=\"\\t\")\n",
    "# remove extra spaces in column names\n",
    "raw.columns = raw.columns.str.strip() \n",
    "raw"
   ]
  },
  {
   "cell_type": "code",
   "execution_count": 70,
   "id": "04a7385d-99b0-4a39-881b-2bf90c11c347",
   "metadata": {},
   "outputs": [
    {
     "name": "stdout",
     "output_type": "stream",
     "text": [
      "['sim', 'state', 'soln', 'dist_x', 'time', 'step', 'pH', 'pe', 'N', 'Na', 'Ca', 'Mg', 'K', 'Al', 'Si', 'Fe', 'Mn', 'Sr', 'Ba', 'P', 'C(4)', 'Hfo_s', 'Hfo_w', 'm_CaX2', 'm_KX', 'm_MgX2', 'm_NaX', 'm_FeX2', 'm_MnX2', 'm_SrX2', 'm_AlX3', 'm_BaX2', 'm_Hfo_wH2PO4', 'm_Hfo_wHPO4-', 'Calcite', 'd_Calcite', 'SiO2(a)', 'd_SiO2(a)', 'Al(OH)3(a)', 'd_Al(OH)3(a)', 'Pyrolusite', 'd_Pyrolusite', 'Fe(OH)3(a)', 'd_Fe(OH)3(a)', 'O2(g)', 'd_O2(g)', 'CO2(g)', 'd_CO2(g)', 'si_Calcite', 'si_SiO2(a)', 'si_Al(OH)3(a)', 'si_Pyrolusite', 'si_Fe(OH)3(a)', 'si_O2(g)', 'si_CO2(g)', 'si_Quartz', 'si_Plagioclase', 'si_Apatite', 'si_Diopside_Mn', 'si_Diopside', 'si_Olivine', 'si_Alkali-feldspar', 'si_Montmorillonite', 'si_Ilmenite', 'si_Glass', 'si_MikeSorghum', 'k_Quartz', 'dk_Quartz', 'k_Plagioclase', 'dk_Plagioclase', 'k_Apatite', 'dk_Apatite', 'k_Diopside_Mn', 'dk_Diopside_Mn', 'k_Diopside', 'dk_Diopside', 'k_Olivine', 'dk_Olivine', 'k_Alkali-feldspar', 'dk_Alkali-feldspar', 'k_Montmorillonite', 'dk_Montmorillonite', 'k_Ilmenite', 'dk_Ilmenite', 'k_Glass', 'dk_Glass', 'k_MikeSorghum', 'dk_MikeSorghum', 'SurfH_Ca', 'SurfH_Mg', 'SurfH_H', 'Hfo_PO4', 'Unnamed: 92']\n"
     ]
    }
   ],
   "source": [
    "# column names\n",
    "column_names = raw.columns.values.tolist()\n",
    "print(column_names)"
   ]
  },
  {
   "cell_type": "code",
   "execution_count": 71,
   "id": "ea2f3b08-059f-49e0-a0da-2955ad2d3ade",
   "metadata": {},
   "outputs": [],
   "source": [
    "# add two columns: years and days, time column is in seconds\n",
    "raw['days'] = raw['time'] / 86400\n",
    "raw['years'] = raw['time'] / 31536000"
   ]
  },
  {
   "cell_type": "code",
   "execution_count": 72,
   "id": "ff1d719c-0ef1-43f6-890f-869190534e8a",
   "metadata": {},
   "outputs": [],
   "source": [
    "# drop rows with time < 0\n",
    "df = raw[raw['time'] >= 0.0]\n",
    "raw = None"
   ]
  },
  {
   "cell_type": "markdown",
   "id": "324fe38a-708a-4180-89fc-1a9fb594acd4",
   "metadata": {},
   "source": [
    "## Total CO2 diagram\n",
    "1) Soil calcite  \n",
    "Solution 1-10, average, C1-10 (mol/L_pw) * V (500000 L_pw/ha) * 44 (g/mol)/1000000 = M (tones CO2/ha)  \n",
    "2) Effluent calcite  \n",
    "Solution 11, C11 (mol/L_pw) * V (500000/10 L_pw/ha) * 44 (g/mol)/1000000 = M (tones CO2/ha)  \n",
    "3) Effluent bicarbonate  \n",
    "Solution 11, Sum C11 (mol/L_pw) * V (500000/10 L_pw/ha) * 44 (g/mol)/1000000 = M (tones CO2/ha)  \n",
    "4) Total capture CO2\n",
    "Effluent bicarbonate + Effluent calcite + Soil calcite"
   ]
  },
  {
   "cell_type": "code",
   "execution_count": 73,
   "id": "6e2f543f-4ac2-4b9f-acf2-4f1bc5002a93",
   "metadata": {},
   "outputs": [],
   "source": [
    "# soil calcite\n",
    "# select solution 1-10, average 1-10 by years\n",
    "soil_c = (df[df['soln'].between(1,10)])[[\"step\",\"years\",\"Calcite\"]].groupby(\"step\").mean()\n",
    "# convert to M (tones CO2/ha)\n",
    "soil_c['Calcite'] = soil_c['Calcite']*500000*44/1000000 \n",
    "# rename\n",
    "soil_c.rename(columns={\"Calcite\": \"Soil_Calcite\"},inplace = True)"
   ]
  },
  {
   "cell_type": "code",
   "execution_count": 74,
   "id": "8c64250e-77b1-4920-8e2e-ecca0305fd85",
   "metadata": {},
   "outputs": [
    {
     "data": {
      "text/plain": [
       "<Axes: xlabel='years', ylabel='Carbon captuere\\n(tones CO2/ha)'>"
      ]
     },
     "execution_count": 74,
     "metadata": {},
     "output_type": "execute_result"
    },
    {
     "data": {
      "image/png": "[encoded data removed]",
      "text/plain": [
       "<Figure size 600x400 with 1 Axes>"
      ]
     },
     "metadata": {},
     "output_type": "display_data"
    }
   ],
   "source": [
    "soil_c.plot.scatter(x=\"years\",y=\"Soil_Calcite\",ylabel=\"Carbon captuere\\n(tones CO2/ha)\")"
   ]
  },
  {
   "cell_type": "code",
   "execution_count": 100,
   "id": "5d731ca7-e301-4386-9465-8018747e114a",
   "metadata": {},
   "outputs": [],
   "source": [
    "# Effluent calcite\n",
    "# select solution 11, average 11 by years\n",
    "eff_c = (df[df['soln'] == 11])[[\"step\",\"years\",\"Calcite\"]].groupby('step').mean()\n",
    "# convert to M (tones CO2/ha)\n",
    "eff_c['Calcite'] = eff_c['Calcite']*(500000/10)*44/1000000 \n",
    "# rename\n",
    "eff_c.rename(columns={\"Calcite\": \"Effluent_Calcite\"},inplace = True)"
   ]
  },
  {
   "cell_type": "code",
   "execution_count": 101,
   "id": "de62b383-7c80-41a0-8e3b-ddb89e231454",
   "metadata": {},
   "outputs": [
    {
     "data": {
      "text/plain": [
       "<Axes: xlabel='years', ylabel='Carbon captuere\\n(tones CO2/ha)'>"
      ]
     },
     "execution_count": 101,
     "metadata": {},
     "output_type": "execute_result"
    },
    {
     "data": {
      "image/png": "[encoded data removed]",
      "text/plain": [
       "<Figure size 600x400 with 1 Axes>"
      ]
     },
     "metadata": {},
     "output_type": "display_data"
    }
   ],
   "source": [
    "eff_c.plot.scatter(x=\"years\",y=\"Effluent_Calcite\",ylabel=\"Carbon captuere\\n(tones CO2/ha)\")"
   ]
  },
  {
   "cell_type": "code",
   "execution_count": 102,
   "id": "66322e5e-2de4-4522-9571-f4c8d0ce5294",
   "metadata": {},
   "outputs": [],
   "source": [
    "eff_c['Effluent bicarbonate']=eff_c[\"Effluent_Calcite\"].cumsum()"
   ]
  },
  {
   "cell_type": "code",
   "execution_count": 103,
   "id": "ffb84244-4130-4d32-aa8c-86056079c835",
   "metadata": {},
   "outputs": [
    {
     "data": {
      "text/plain": [
       "<Axes: xlabel='years', ylabel='Carbon captuere\\n(tones CO2/ha)'>"
      ]
     },
     "execution_count": 103,
     "metadata": {},
     "output_type": "execute_result"
    },
    {
     "data": {
      "image/png": "[encoded data removed]",
      "text/plain": [
       "<Figure size 600x400 with 1 Axes>"
      ]
     },
     "metadata": {},
     "output_type": "display_data"
    }
   ],
   "source": [
    "eff_c.plot.scatter(x=\"years\",y=[\"Effluent bicarbonate\"],ylabel=\"Carbon captuere\\n(tones CO2/ha)\")"
   ]
  },
  {
   "cell_type": "code",
   "execution_count": 104,
   "id": "49e9886c-9124-4fc2-b48b-a8cf09576a1c",
   "metadata": {},
   "outputs": [],
   "source": [
    "eff_c[\"Soil_Calcite\"]= soil_c[\"Soil_Calcite\"]\n",
    "eff_c[\"Total_Capture\"] = eff_c['Effluent bicarbonate'] + eff_c[\"Effluent_Calcite\"]+eff_c[\"Soil_Calcite\"]"
   ]
  },
  {
   "cell_type": "code",
   "execution_count": 105,
   "id": "3d45fe1a-d592-45a8-bdb9-d132c80ae607",
   "metadata": {},
   "outputs": [
    {
     "data": {
      "text/plain": [
       "<Axes: xlabel='years', ylabel='Carbon captuere\\n(tones CO2/ha)'>"
      ]
     },
     "execution_count": 105,
     "metadata": {},
     "output_type": "execute_result"
    },
    {
     "data": {
      "image/png": "[encoded data removed]",
      "text/plain": [
       "<Figure size 600x400 with 1 Axes>"
      ]
     },
     "metadata": {},
     "output_type": "display_data"
    }
   ],
   "source": [
    "eff_c.plot.scatter(x=\"years\",y=[\"Total_Capture\"],ylabel=\"Carbon captuere\\n(tones CO2/ha)\")"
   ]
  },
  {
   "cell_type": "code",
   "execution_count": 117,
   "id": "58b648bc-6acd-48df-bf4c-444b4e962ed7",
   "metadata": {},
   "outputs": [
    {
     "data": {
      "image/png": "[encoded data removed]",
      "text/plain": [
       "<Figure size 600x400 with 1 Axes>"
      ]
     },
     "metadata": {},
     "output_type": "display_data"
    }
   ],
   "source": [
    "# plot everything together\n",
    "fig, ax = plt.subplots()\n",
    "columns = ['Effluent_Calcite','Effluent bicarbonate','Soil_Calcite','Total_Capture']\n",
    "for column in columns:\n",
    "    ax.scatter(x = eff_c['years'], y= eff_c[column], label=column,s=10)\n",
    "ax.set_xlabel('years')\n",
    "ax.set_ylabel(\"Carbon captuere\\n(tones CO2/ha)\")\n",
    "ax.legend()\n",
    "ax.autoscale(tight=True)\n"
   ]
  },
  {
   "cell_type": "code",
   "execution_count": null,
   "id": "cc2330c3-bb5a-4da6-b3c3-64e84a1160a3",
   "metadata": {},
   "outputs": [],
   "source": []
  }
 ],
 "metadata": {
  "kernelspec": {
   "display_name": "Python 3 (ipykernel)",
   "language": "python",
   "name": "python3"
  },
  "language_info": {
   "codemirror_mode": {
    "name": "ipython",
    "version": 3
   },
   "file_extension": ".py",
   "mimetype": "text/x-python",
   "name": "python",
   "nbconvert_exporter": "python",
   "pygments_lexer": "ipython3",
   "version": "3.11.6"
  }
 },
 "nbformat": 4,
 "nbformat_minor": 5
}
